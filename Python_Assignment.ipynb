{
 "cells": [
  {
   "cell_type": "markdown",
   "id": "93061eb0",
   "metadata": {},
   "source": [
    "### 1. Assign the value 7 to the variable guess_me. Then, write the conditional tests (if, else, and elif) to \n",
    "print the string 'too low' if guess_me is less than 7, 'too high' if greater than 7, and 'just right' if equal \n",
    "to 7."
   ]
  },
  {
   "cell_type": "code",
   "execution_count": 4,
   "id": "876bd92f",
   "metadata": {},
   "outputs": [
    {
     "name": "stdout",
     "output_type": "stream",
     "text": [
      "enter the no.7\n",
      "just right\n"
     ]
    }
   ],
   "source": [
    "guess_me=int(input('enter the no.'))\n",
    "if guess_me<7:\n",
    "    print('too slow')\n",
    "elif guess_me==7:\n",
    "    print('just right')\n",
    "else:\n",
    "    print('too high')"
   ]
  },
  {
   "cell_type": "markdown",
   "id": "d9a850c5",
   "metadata": {},
   "source": [
    "### 2. Assign the value 7 to the variable guess_me and the value 1 to the variable start. Write a while \n",
    "loop that compares start with guess_me. Print too low if start is less than guess me. If start equals \n",
    "guess_me, print 'found it!' and exit the loop. If start is greater than guess_me, print 'oops' and exit \n",
    "the loop. Increment start at the end of the loop."
   ]
  },
  {
   "cell_type": "code",
   "execution_count": 6,
   "id": "c6e137c2",
   "metadata": {},
   "outputs": [
    {
     "name": "stdout",
     "output_type": "stream",
     "text": [
      "1\n",
      "2\n",
      "3\n",
      "4\n",
      "5\n",
      "6\n"
     ]
    }
   ],
   "source": [
    "guess_me=1\n",
    "while guess_me<7:\n",
    "    print('{}'.format(guess_me))\n",
    "    guess_me=guess_me+1"
   ]
  },
  {
   "cell_type": "markdown",
   "id": "8b1baa05",
   "metadata": {},
   "source": [
    "### Print the following values of the list [3, 2, 1, 0] using a for loop."
   ]
  },
  {
   "cell_type": "code",
   "execution_count": 7,
   "id": "5c6ba9aa",
   "metadata": {},
   "outputs": [],
   "source": [
    "list=[3,2,1,0]"
   ]
  },
  {
   "cell_type": "code",
   "execution_count": 8,
   "id": "3ecc259b",
   "metadata": {},
   "outputs": [
    {
     "name": "stdout",
     "output_type": "stream",
     "text": [
      "3\n",
      "2\n",
      "1\n",
      "0\n"
     ]
    }
   ],
   "source": [
    "for var in list:\n",
    "    print(var)"
   ]
  },
  {
   "cell_type": "markdown",
   "id": "b0b3c18e",
   "metadata": {},
   "source": [
    "### 4. Use a list comprehension to make a list of the even numbers in range(10)\n"
   ]
  },
  {
   "cell_type": "code",
   "execution_count": 15,
   "id": "ae68a718",
   "metadata": {},
   "outputs": [
    {
     "data": {
      "text/plain": [
       "(0, 2, 4, 6, 8)"
      ]
     },
     "execution_count": 15,
     "metadata": {},
     "output_type": "execute_result"
    }
   ],
   "source": [
    "r=range(10)\n",
    "tuple(filter(lambda v:v%2==0,r))"
   ]
  },
  {
   "cell_type": "markdown",
   "id": "c895e2f5",
   "metadata": {},
   "source": [
    "### 5. Use a dictionary comprehension to create the dictionary squares. Use range(10) to return the \n",
    "keys, and use the square of each key as its value.\n"
   ]
  },
  {
   "cell_type": "code",
   "execution_count": 16,
   "id": "003feace",
   "metadata": {},
   "outputs": [],
   "source": [
    "def squares(x):\n",
    "    return x**2"
   ]
  },
  {
   "cell_type": "code",
   "execution_count": 18,
   "id": "b47a11ca",
   "metadata": {},
   "outputs": [
    {
     "data": {
      "text/plain": [
       "16"
      ]
     },
     "execution_count": 18,
     "metadata": {},
     "output_type": "execute_result"
    }
   ],
   "source": [
    "squares(4)"
   ]
  },
  {
   "cell_type": "code",
   "execution_count": 22,
   "id": "b8f876e9",
   "metadata": {},
   "outputs": [
    {
     "name": "stdout",
     "output_type": "stream",
     "text": [
      "{0: 0, 1: 1, 2: 4, 3: 9, 4: 16, 5: 25, 6: 36, 7: 49, 8: 64, 9: 81}\n"
     ]
    }
   ],
   "source": [
    "number=range(10)\n",
    "square={}\n",
    "for n in number:\n",
    "    square[n]=n**2\n",
    "print(square)"
   ]
  },
  {
   "cell_type": "markdown",
   "id": "bac64b5c",
   "metadata": {},
   "source": [
    "### 6. Construct the set odd from the odd numbers in the range using a set comprehension (10)."
   ]
  },
  {
   "cell_type": "code",
   "execution_count": 23,
   "id": "7441f164",
   "metadata": {},
   "outputs": [
    {
     "data": {
      "text/plain": [
       "range(0, 10)"
      ]
     },
     "execution_count": 23,
     "metadata": {},
     "output_type": "execute_result"
    }
   ],
   "source": [
    "range(10)"
   ]
  },
  {
   "cell_type": "code",
   "execution_count": 26,
   "id": "34601e74",
   "metadata": {},
   "outputs": [],
   "source": [
    "a=tuple(filter(lambda v:v%2!=0,range(10)))"
   ]
  },
  {
   "cell_type": "code",
   "execution_count": 27,
   "id": "693e36cb",
   "metadata": {},
   "outputs": [
    {
     "data": {
      "text/plain": [
       "{1, 3, 5, 7, 9}"
      ]
     },
     "execution_count": 27,
     "metadata": {},
     "output_type": "execute_result"
    }
   ],
   "source": [
    "set(a)"
   ]
  },
  {
   "cell_type": "markdown",
   "id": "67644d8a",
   "metadata": {},
   "source": [
    "### 7. Define a function called good that returns the list ['Harry', 'Ron', 'Hermione']"
   ]
  },
  {
   "cell_type": "code",
   "execution_count": 9,
   "id": "d7011de2",
   "metadata": {},
   "outputs": [],
   "source": [
    "list=['Harry','Ron','Hermione']\n",
    "def good(l):\n",
    "    return list\n",
    "    "
   ]
  },
  {
   "cell_type": "code",
   "execution_count": 10,
   "id": "de02337b",
   "metadata": {},
   "outputs": [
    {
     "data": {
      "text/plain": [
       "['Harry', 'Ron', 'Hermione']"
      ]
     },
     "execution_count": 10,
     "metadata": {},
     "output_type": "execute_result"
    }
   ],
   "source": [
    "good(list)"
   ]
  },
  {
   "cell_type": "markdown",
   "id": "1f23d0d7",
   "metadata": {},
   "source": [
    "### 8.Create a zoo.py file first. Define the hours() function, which prints the string 'Open 9-5 daily'.\n",
    "### Then, use the interactive interpreter to import the zoo module and call its hours() function."
   ]
  },
  {
   "cell_type": "code",
   "execution_count": 14,
   "id": "bbc8d2a3",
   "metadata": {},
   "outputs": [],
   "source": [
    "a=open('zoo.py','w')\n",
    "def hour():\n",
    "    return 'open 9-5 daily'\n",
    "    "
   ]
  },
  {
   "cell_type": "code",
   "execution_count": 15,
   "id": "f7d7a711",
   "metadata": {},
   "outputs": [
    {
     "data": {
      "text/plain": [
       "'open 9-5 daily'"
      ]
     },
     "execution_count": 15,
     "metadata": {},
     "output_type": "execute_result"
    }
   ],
   "source": [
    "hour()"
   ]
  },
  {
   "cell_type": "markdown",
   "id": "ce31322a",
   "metadata": {},
   "source": [
    "### 9.Create a plain dictionary with the key-value pairs 'a': 1, 'b': 2, and 'c': 3, and print it out."
   ]
  },
  {
   "cell_type": "code",
   "execution_count": 16,
   "id": "344c0f74",
   "metadata": {},
   "outputs": [],
   "source": [
    "dictionary={'a':1,'b':2,'c':3}"
   ]
  },
  {
   "cell_type": "code",
   "execution_count": 18,
   "id": "6c9fecfc",
   "metadata": {},
   "outputs": [
    {
     "data": {
      "text/plain": [
       "{'a': 1, 'b': 2, 'c': 3}"
      ]
     },
     "execution_count": 18,
     "metadata": {},
     "output_type": "execute_result"
    }
   ],
   "source": [
    "dictionary"
   ]
  },
  {
   "cell_type": "code",
   "execution_count": 19,
   "id": "73c6d020",
   "metadata": {},
   "outputs": [
    {
     "name": "stdout",
     "output_type": "stream",
     "text": [
      "{'a': 1, 'b': 2, 'c': 3}\n"
     ]
    }
   ],
   "source": [
    "print(dictionary)"
   ]
  },
  {
   "cell_type": "code",
   "execution_count": null,
   "id": "c9a079ad",
   "metadata": {},
   "outputs": [],
   "source": []
  },
  {
   "cell_type": "code",
   "execution_count": 20,
   "id": "eccbcbdd",
   "metadata": {},
   "outputs": [],
   "source": [
    "year_list=[1990,1991,1992,1993,1994,1995]"
   ]
  },
  {
   "cell_type": "code",
   "execution_count": 24,
   "id": "f9038780",
   "metadata": {},
   "outputs": [],
   "source": [
    "i=1990\n",
    "while i>1995:\n",
    "    print('{}'.format(i))\n",
    "    i=i+1"
   ]
  },
  {
   "cell_type": "code",
   "execution_count": null,
   "id": "347b7b3b",
   "metadata": {},
   "outputs": [],
   "source": []
  },
  {
   "cell_type": "code",
   "execution_count": 31,
   "id": "cd812740",
   "metadata": {},
   "outputs": [],
   "source": [
    "surprice_list=[ \"Groucho\", \"Chico,\",\"Harpo\"]"
   ]
  },
  {
   "cell_type": "code",
   "execution_count": 32,
   "id": "60cbf5a2",
   "metadata": {},
   "outputs": [
    {
     "data": {
      "text/plain": [
       "['Harpo', 'Chico,', 'Groucho']"
      ]
     },
     "execution_count": 32,
     "metadata": {},
     "output_type": "execute_result"
    }
   ],
   "source": [
    "surprice_list[::-1]"
   ]
  },
  {
   "cell_type": "markdown",
   "id": "1f19f192",
   "metadata": {},
   "source": [
    "### import sqlite3 databasea and create database name Books and create table name Book and insert values in tables"
   ]
  },
  {
   "cell_type": "code",
   "execution_count": 42,
   "id": "e9c2ae4d",
   "metadata": {},
   "outputs": [],
   "source": [
    "import sqlite3"
   ]
  },
  {
   "cell_type": "code",
   "execution_count": 43,
   "id": "06075744",
   "metadata": {},
   "outputs": [],
   "source": [
    "db=sqlite3.connect('books.db')"
   ]
  },
  {
   "cell_type": "code",
   "execution_count": 44,
   "id": "2586cf57",
   "metadata": {},
   "outputs": [
    {
     "data": {
      "text/plain": [
       "<sqlite3.Connection at 0x179bd580c60>"
      ]
     },
     "execution_count": 44,
     "metadata": {},
     "output_type": "execute_result"
    }
   ],
   "source": [
    "db"
   ]
  },
  {
   "cell_type": "code",
   "execution_count": 47,
   "id": "a63e82af",
   "metadata": {},
   "outputs": [
    {
     "data": {
      "text/plain": [
       "<sqlite3.Cursor at 0x179bf4be810>"
      ]
     },
     "execution_count": 47,
     "metadata": {},
     "output_type": "execute_result"
    }
   ],
   "source": [
    "db.execute(\"create table Books( title text, author text, year int)\")"
   ]
  },
  {
   "cell_type": "code",
   "execution_count": 48,
   "id": "54d89612",
   "metadata": {},
   "outputs": [
    {
     "data": {
      "text/plain": [
       "<sqlite3.Cursor at 0x179bf4beab0>"
      ]
     },
     "execution_count": 48,
     "metadata": {},
     "output_type": "execute_result"
    }
   ],
   "source": [
    "db.execute(\"insert into Books(title,author,year)values('Ramayan','aspatil',1992)\")\n",
    "db.execute(\"insert into Books(title,author,year)values('Karn','vrpatil',1994)\")\n",
    "db.execute(\"insert into Books(title,author,year)values('Mahabhart','djpatil',1990)\")"
   ]
  },
  {
   "cell_type": "code",
   "execution_count": 49,
   "id": "01e732df",
   "metadata": {},
   "outputs": [
    {
     "name": "stdout",
     "output_type": "stream",
     "text": [
      "('Ramayan', 'aspatil', 1992)\n",
      "('Karn', 'vrpatil', 1994)\n",
      "('Mahabhart', 'djpatil', 1990)\n"
     ]
    }
   ],
   "source": [
    "results=db.execute('select * from Books')\n",
    "for row in results:\n",
    "    print(row)"
   ]
  },
  {
   "cell_type": "markdown",
   "id": "be2cd38c",
   "metadata": {},
   "source": [
    "### Find out current time and Date."
   ]
  },
  {
   "cell_type": "code",
   "execution_count": 50,
   "id": "68fa2553",
   "metadata": {},
   "outputs": [],
   "source": [
    "import datetime"
   ]
  },
  {
   "cell_type": "code",
   "execution_count": 51,
   "id": "b96a7578",
   "metadata": {},
   "outputs": [],
   "source": [
    "today=datetime.datetime.today()"
   ]
  },
  {
   "cell_type": "code",
   "execution_count": 52,
   "id": "ff3187f7",
   "metadata": {},
   "outputs": [
    {
     "data": {
      "text/plain": [
       "datetime.datetime(2022, 2, 12, 17, 55, 52, 413824)"
      ]
     },
     "execution_count": 52,
     "metadata": {},
     "output_type": "execute_result"
    }
   ],
   "source": [
    "today"
   ]
  },
  {
   "cell_type": "markdown",
   "id": "21e762c6",
   "metadata": {},
   "source": [
    "### What is the result of the code?"
   ]
  },
  {
   "cell_type": "code",
   "execution_count": 53,
   "id": "b104a395",
   "metadata": {},
   "outputs": [],
   "source": [
    "x='Indian Air Force'"
   ]
  },
  {
   "cell_type": "code",
   "execution_count": 55,
   "id": "4d114e4c",
   "metadata": {},
   "outputs": [],
   "source": [
    "def func():\n",
    "    print(x)"
   ]
  },
  {
   "cell_type": "code",
   "execution_count": 56,
   "id": "3ff35476",
   "metadata": {},
   "outputs": [
    {
     "name": "stdout",
     "output_type": "stream",
     "text": [
      "Indian Air Force\n"
     ]
    }
   ],
   "source": [
    "func()"
   ]
  },
  {
   "cell_type": "code",
   "execution_count": 59,
   "id": "db9f5c0b",
   "metadata": {},
   "outputs": [
    {
     "name": "stdout",
     "output_type": "stream",
     "text": [
      "BharatSoft\n"
     ]
    }
   ],
   "source": [
    "X = 'BharatSoft'\n",
    "def func():\n",
    "    X = 'NI!'\n",
    "func()\n",
    "print(X)\n",
    "    \n",
    "    \n",
    "    "
   ]
  },
  {
   "cell_type": "code",
   "execution_count": 60,
   "id": "d9d44480",
   "metadata": {},
   "outputs": [
    {
     "name": "stdout",
     "output_type": "stream",
     "text": [
      "1 2 8\n"
     ]
    }
   ],
   "source": [
    "def func(a, b=6, c=8):\n",
    "    print(a, b, c)\n",
    "func(1, 2)"
   ]
  },
  {
   "cell_type": "code",
   "execution_count": 2,
   "id": "09e076d7",
   "metadata": {},
   "outputs": [],
   "source": [
    "list= [3.14, 'cat', 11, 'cat,' 'True']"
   ]
  },
  {
   "cell_type": "code",
   "execution_count": 3,
   "id": "f686531f",
   "metadata": {},
   "outputs": [],
   "source": [
    "list.append(99)"
   ]
  },
  {
   "cell_type": "code",
   "execution_count": 4,
   "id": "453c05b2",
   "metadata": {},
   "outputs": [
    {
     "data": {
      "text/plain": [
       "[3.14, 'cat', 11, 'cat,True', 99]"
      ]
     },
     "execution_count": 4,
     "metadata": {},
     "output_type": "execute_result"
    }
   ],
   "source": [
    "list"
   ]
  },
  {
   "cell_type": "code",
   "execution_count": 5,
   "id": "94c825bf",
   "metadata": {},
   "outputs": [],
   "source": [
    "list.remove('cat')"
   ]
  },
  {
   "cell_type": "code",
   "execution_count": 6,
   "id": "01c120d5",
   "metadata": {},
   "outputs": [
    {
     "data": {
      "text/plain": [
       "[3.14, 11, 'cat,True', 99]"
      ]
     },
     "execution_count": 6,
     "metadata": {},
     "output_type": "execute_result"
    }
   ],
   "source": [
    "list"
   ]
  },
  {
   "cell_type": "code",
   "execution_count": 8,
   "id": "93c85213",
   "metadata": {},
   "outputs": [],
   "source": [
    "d={'foo':42}"
   ]
  },
  {
   "cell_type": "code",
   "execution_count": 9,
   "id": "588842e7",
   "metadata": {},
   "outputs": [
    {
     "data": {
      "text/plain": [
       "dict"
      ]
     },
     "execution_count": 9,
     "metadata": {},
     "output_type": "execute_result"
    }
   ],
   "source": [
    "type(d)"
   ]
  },
  {
   "cell_type": "code",
   "execution_count": 11,
   "id": "d7a927df",
   "metadata": {},
   "outputs": [
    {
     "data": {
      "text/plain": [
       "True"
      ]
     },
     "execution_count": 11,
     "metadata": {},
     "output_type": "execute_result"
    }
   ],
   "source": [
    "'Hello'.upper().isupper()\n"
   ]
  },
  {
   "cell_type": "code",
   "execution_count": 14,
   "id": "d4f5b6dd",
   "metadata": {},
   "outputs": [
    {
     "data": {
      "text/plain": [
       "'hello'"
      ]
     },
     "execution_count": 14,
     "metadata": {},
     "output_type": "execute_result"
    }
   ],
   "source": [
    "'Hello'.upper().lower()"
   ]
  },
  {
   "cell_type": "markdown",
   "id": "cba39476",
   "metadata": {},
   "source": [
    "### 1. Create a zoo.py file first. Define the hours() function, which prints the string 'Open 9-5 daily'.\n",
    "### Then, use the interactive interpreter to import the zoo module and call its hours() function."
   ]
  },
  {
   "cell_type": "code",
   "execution_count": 1,
   "id": "d7c5246d",
   "metadata": {},
   "outputs": [],
   "source": [
    "a=open('zoo.py','w')\n",
    "def hour():\n",
    "    return 'open 9-5 daily'"
   ]
  },
  {
   "cell_type": "markdown",
   "id": "ae12d2d1",
   "metadata": {},
   "source": [
    "### Create a plain dictionary with the key-value pairs 'a': 1, 'b': 2, and 'c': 3, and print it out."
   ]
  },
  {
   "cell_type": "code",
   "execution_count": 2,
   "id": "4eb7cf14",
   "metadata": {},
   "outputs": [],
   "source": [
    "dictionary={'a':1,'b':2,'c':3}"
   ]
  },
  {
   "cell_type": "code",
   "execution_count": 3,
   "id": "d0a1d960",
   "metadata": {},
   "outputs": [
    {
     "data": {
      "text/plain": [
       "{'a': 1, 'b': 2, 'c': 3}"
      ]
     },
     "execution_count": 3,
     "metadata": {},
     "output_type": "execute_result"
    }
   ],
   "source": [
    "dictionary"
   ]
  },
  {
   "cell_type": "code",
   "execution_count": 4,
   "id": "cab8a1ed",
   "metadata": {},
   "outputs": [
    {
     "name": "stdout",
     "output_type": "stream",
     "text": [
      "{'a': 1, 'b': 2, 'c': 3}\n"
     ]
    }
   ],
   "source": [
    "print(dictionary)"
   ]
  },
  {
   "cell_type": "code",
   "execution_count": 5,
   "id": "6ba6f639",
   "metadata": {},
   "outputs": [
    {
     "data": {
      "text/plain": [
       "dict"
      ]
     },
     "execution_count": 5,
     "metadata": {},
     "output_type": "execute_result"
    }
   ],
   "source": [
    "type(dictionary)"
   ]
  },
  {
   "cell_type": "code",
   "execution_count": null,
   "id": "a943d0d6",
   "metadata": {},
   "outputs": [],
   "source": []
  }
 ],
 "metadata": {
  "kernelspec": {
   "display_name": "Python 3 (ipykernel)",
   "language": "python",
   "name": "python3"
  },
  "language_info": {
   "codemirror_mode": {
    "name": "ipython",
    "version": 3
   },
   "file_extension": ".py",
   "mimetype": "text/x-python",
   "name": "python",
   "nbconvert_exporter": "python",
   "pygments_lexer": "ipython3",
   "version": "3.9.7"
  }
 },
 "nbformat": 4,
 "nbformat_minor": 5
}
